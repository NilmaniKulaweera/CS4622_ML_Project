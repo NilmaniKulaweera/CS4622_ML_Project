{
 "cells": [
  {
   "cell_type": "code",
   "execution_count": 1,
   "id": "28fd6797",
   "metadata": {},
   "outputs": [],
   "source": [
    "import pandas as pd\n",
    "import numpy as np\n",
    "\n",
    "pd.set_option(\"display.max_columns\", 100)\n",
    "\n",
    "%matplotlib inline\n",
    "import matplotlib.pyplot as plt"
   ]
  },
  {
   "cell_type": "code",
   "execution_count": 2,
   "id": "927968c3",
   "metadata": {},
   "outputs": [],
   "source": [
    "features_df = pd.read_csv('data/training_set_features.csv', index_col='id')\n",
    "labels_df = pd.read_csv('data/training_set_labels.csv', index_col='id')\n",
    "np.testing.assert_array_equal(features_df.index.values, labels_df.index.values)"
   ]
  },
  {
   "cell_type": "code",
   "execution_count": 3,
   "id": "389c9376",
   "metadata": {},
   "outputs": [],
   "source": [
    "numeric_cols = [\n",
    "    'amount_tsh', \n",
    "    'gps_height', \n",
    "    'longitude', \n",
    "    'latitude', \n",
    "    'num_private',\n",
    "    'region_code', \n",
    "    'district_code', \n",
    "    'population', \n",
    "    'construction_year'\n",
    "]\n",
    "\n",
    "categorical_cols_with_rare_label = [\n",
    "    'basin',\n",
    "    'extraction_type', \n",
    "    'extraction_type_group',\n",
    "    'extraction_type_class', \n",
    "    'management', \n",
    "    'management_group',\n",
    "    'payment', \n",
    "    'payment_type',\n",
    "    'water_quality', \n",
    "    'quality_group',\n",
    "    'source', \n",
    "    'source_type',\n",
    "    'source_class', \n",
    "    'waterpoint_type', \n",
    "    'waterpoint_type_group'\n",
    "]\n",
    "\n",
    "categorical_cols_without_rare_label = [\n",
    "    'date_recorded',\n",
    "    'funder',\n",
    "    'installer',\n",
    "    'wpt_name',\n",
    "    'subvillage',\n",
    "    'scheme_management',\n",
    "    'region',\n",
    "    'lga',\n",
    "    'ward',\n",
    "    'public_meeting',\n",
    "    'recorded_by',\n",
    "    'scheme_name', \n",
    "    'permit', \n",
    "    'quantity', \n",
    "    'quantity_group', \n",
    "]"
   ]
  },
  {
   "cell_type": "code",
   "execution_count": 4,
   "id": "4aa77c4f",
   "metadata": {},
   "outputs": [],
   "source": [
    "from sklearn.preprocessing import StandardScaler\n",
    "from sklearn.impute import SimpleImputer\n",
    "from feature_engine.imputation import RandomSampleImputer\n",
    "from sklearn.preprocessing import OneHotEncoder\n",
    "from feature_engine.encoding import RareLabelEncoder\n",
    "from sklearn.impute import MissingIndicator\n",
    "from sklearn.preprocessing import OrdinalEncoder\n",
    "from sklearn.compose import ColumnTransformer\n",
    "from catboost import CatBoostClassifier\n",
    "from sklearn.ensemble import RandomForestClassifier\n",
    "from sklearn.model_selection import cross_val_score\n",
    "\n",
    "from imblearn.over_sampling import ADASYN\n",
    "from imblearn.pipeline import Pipeline \n",
    "\n",
    "RANDOM_SEED = 6    # Set a random seed for reproducibility!"
   ]
  },
  {
   "cell_type": "code",
   "execution_count": 5,
   "id": "e581aabd",
   "metadata": {},
   "outputs": [],
   "source": [
    "missing_category_imputer = SimpleImputer(missing_values=np.nan, strategy='constant', fill_value=\"Missing\")\n",
    "random_sample_imputer = RandomSampleImputer(random_state = 42)\n",
    "scheme_management_imputer = SimpleImputer(missing_values=np.nan, strategy='constant', fill_value=\"Company\")\n",
    "missing_indicator_imputer = MissingIndicator(error_on_new=True, features='missing-only')\n",
    "\n",
    "imputer_categorical = ColumnTransformer(transformers=[\n",
    "    ('missing_category', missing_category_imputer, [\"funder\", \"installer\", \"scheme_name\"]),\n",
    "    ('random_sample', random_sample_imputer, [\"public_meeting\", \"subvillage\"]),\n",
    "    ('scheme_management_imputer', scheme_management_imputer, [\"scheme_management\"]),\n",
    "    ('missing_indicator_imputer', missing_indicator_imputer, [\"permit\"]),\n",
    "], remainder=\"passthrough\")\n",
    "\n",
    "# Preprocessing for numerical data\n",
    "numerical_transformer = Pipeline(steps=[\n",
    "    ('standard_scaler', StandardScaler())\n",
    "])\n",
    "\n",
    "# Preprocessing for categorical data\n",
    "categorical_transformer_with_rare_label = Pipeline(steps=[\n",
    "    ('rare', RareLabelEncoder(tol=0.01, n_categories=2, replace_with='RareCategory')),\n",
    "    ('onehot', OneHotEncoder(handle_unknown='ignore'))\n",
    "])\n",
    "\n",
    "categorical_transformer_without_rare_label = Pipeline(steps=[\n",
    "    ('cat_imputer', imputer_categorical),\n",
    "    ('ordinal', OrdinalEncoder(handle_unknown='use_encoded_value', unknown_value=-1))\n",
    "])\n",
    "\n",
    "preprocessor = ColumnTransformer(transformers=[\n",
    "    ('num', numerical_transformer, numeric_cols),\n",
    "    ('cat_rare', categorical_transformer_with_rare_label, categorical_cols_with_rare_label),\n",
    "    ('cat_not_rare', categorical_transformer_without_rare_label, categorical_cols_without_rare_label)\n",
    "], remainder=\"drop\")\n",
    "\n",
    "over_sampler = ADASYN(sampling_strategy=\"minority\", random_state=42)\n",
    "\n",
    "# model = CatBoostClassifier(n_estimators=1000, learning_rate=0.05, rsm=1, random_strength=1, silent=False, loss_function='MultiClass',  random_state=42)\n",
    "\n",
    "model = RandomForestClassifier(random_state=42, n_estimators = 500)\n",
    "\n",
    "pipeline = Pipeline(steps=[\n",
    "    ('preprocessor', preprocessor),\n",
    "    ('sampler', over_sampler),\n",
    "    ('model', model)\n",
    "])"
   ]
  },
  {
   "cell_type": "code",
   "execution_count": 6,
   "id": "5a128bdc",
   "metadata": {},
   "outputs": [
    {
     "name": "stdout",
     "output_type": "stream",
     "text": [
      "[0.81304714 0.80639731 0.80942761 0.80976431 0.80639731]\n",
      "Wall time: 9min\n"
     ]
    }
   ],
   "source": [
    "%%time\n",
    "\n",
    "scores = cross_val_score(pipeline, features_df, labels_df[\"status_group\"], cv=5, scoring='accuracy')\n",
    "print(scores)"
   ]
  },
  {
   "cell_type": "code",
   "execution_count": 7,
   "id": "72a663fb",
   "metadata": {},
   "outputs": [
    {
     "data": {
      "text/plain": [
       "0.809006734006734"
      ]
     },
     "execution_count": 7,
     "metadata": {},
     "output_type": "execute_result"
    }
   ],
   "source": [
    "scores.mean()"
   ]
  },
  {
   "cell_type": "code",
   "execution_count": 8,
   "id": "c4aa65b4",
   "metadata": {},
   "outputs": [],
   "source": [
    "test_features_df = pd.read_csv(\"data/test_set_features.csv\", index_col=\"id\")"
   ]
  },
  {
   "cell_type": "code",
   "execution_count": 9,
   "id": "bb88c0c4",
   "metadata": {},
   "outputs": [
    {
     "name": "stdout",
     "output_type": "stream",
     "text": [
      "Wall time: 2min 19s\n"
     ]
    }
   ],
   "source": [
    "%%time\n",
    "\n",
    "# Train model\n",
    "pipeline.fit(features_df, labels_df[\"status_group\"])\n",
    "\n",
    "test_preds = pipeline.predict(test_features_df)"
   ]
  },
  {
   "cell_type": "code",
   "execution_count": 10,
   "id": "3d5924ed",
   "metadata": {},
   "outputs": [
    {
     "data": {
      "text/plain": [
       "array(['non functional', 'functional', 'functional', ..., 'functional',\n",
       "       'functional', 'non functional'], dtype=object)"
      ]
     },
     "execution_count": 10,
     "metadata": {},
     "output_type": "execute_result"
    }
   ],
   "source": [
    "test_preds"
   ]
  },
  {
   "cell_type": "code",
   "execution_count": 11,
   "id": "7fc121c0",
   "metadata": {},
   "outputs": [],
   "source": [
    "submission_df = pd.read_csv(\"data/submission_format.csv\", index_col=\"id\")"
   ]
  },
  {
   "cell_type": "code",
   "execution_count": 12,
   "id": "f81dc04e",
   "metadata": {},
   "outputs": [],
   "source": [
    "np.testing.assert_array_equal(test_features_df.index.values, submission_df.index.values)"
   ]
  },
  {
   "cell_type": "code",
   "execution_count": 13,
   "id": "099660f2",
   "metadata": {},
   "outputs": [],
   "source": [
    "submission_df[\"status_group\"] = test_preds"
   ]
  },
  {
   "cell_type": "code",
   "execution_count": 14,
   "id": "4a7a8956",
   "metadata": {},
   "outputs": [
    {
     "data": {
      "text/html": [
       "<div>\n",
       "<style scoped>\n",
       "    .dataframe tbody tr th:only-of-type {\n",
       "        vertical-align: middle;\n",
       "    }\n",
       "\n",
       "    .dataframe tbody tr th {\n",
       "        vertical-align: top;\n",
       "    }\n",
       "\n",
       "    .dataframe thead th {\n",
       "        text-align: right;\n",
       "    }\n",
       "</style>\n",
       "<table border=\"1\" class=\"dataframe\">\n",
       "  <thead>\n",
       "    <tr style=\"text-align: right;\">\n",
       "      <th></th>\n",
       "      <th>status_group</th>\n",
       "    </tr>\n",
       "    <tr>\n",
       "      <th>id</th>\n",
       "      <th></th>\n",
       "    </tr>\n",
       "  </thead>\n",
       "  <tbody>\n",
       "    <tr>\n",
       "      <th>50785</th>\n",
       "      <td>non functional</td>\n",
       "    </tr>\n",
       "    <tr>\n",
       "      <th>51630</th>\n",
       "      <td>functional</td>\n",
       "    </tr>\n",
       "    <tr>\n",
       "      <th>17168</th>\n",
       "      <td>functional</td>\n",
       "    </tr>\n",
       "    <tr>\n",
       "      <th>45559</th>\n",
       "      <td>non functional</td>\n",
       "    </tr>\n",
       "    <tr>\n",
       "      <th>49871</th>\n",
       "      <td>functional</td>\n",
       "    </tr>\n",
       "  </tbody>\n",
       "</table>\n",
       "</div>"
      ],
      "text/plain": [
       "         status_group\n",
       "id                   \n",
       "50785  non functional\n",
       "51630      functional\n",
       "17168      functional\n",
       "45559  non functional\n",
       "49871      functional"
      ]
     },
     "execution_count": 14,
     "metadata": {},
     "output_type": "execute_result"
    }
   ],
   "source": [
    "submission_df.head()"
   ]
  },
  {
   "cell_type": "code",
   "execution_count": 15,
   "id": "129cd97d",
   "metadata": {},
   "outputs": [],
   "source": [
    "submission_df.to_csv('submissions/V6.csv', index=True)"
   ]
  },
  {
   "cell_type": "code",
   "execution_count": null,
   "id": "7d44bf9e",
   "metadata": {},
   "outputs": [],
   "source": []
  }
 ],
 "metadata": {
  "kernelspec": {
   "display_name": "Python 3",
   "language": "python",
   "name": "python3"
  },
  "language_info": {
   "codemirror_mode": {
    "name": "ipython",
    "version": 3
   },
   "file_extension": ".py",
   "mimetype": "text/x-python",
   "name": "python",
   "nbconvert_exporter": "python",
   "pygments_lexer": "ipython3",
   "version": "3.9.5"
  }
 },
 "nbformat": 4,
 "nbformat_minor": 5
}
