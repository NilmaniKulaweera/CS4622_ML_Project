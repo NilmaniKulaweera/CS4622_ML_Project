{
 "cells": [
  {
   "cell_type": "code",
   "execution_count": 1,
   "id": "28fd6797",
   "metadata": {},
   "outputs": [],
   "source": [
    "import pandas as pd\n",
    "import numpy as np\n",
    "\n",
    "pd.set_option(\"display.max_columns\", 100)\n",
    "\n",
    "%matplotlib inline\n",
    "import matplotlib.pyplot as plt"
   ]
  },
  {
   "cell_type": "code",
   "execution_count": 2,
   "id": "927968c3",
   "metadata": {},
   "outputs": [],
   "source": [
    "features_df = pd.read_csv('data/training_set_features.csv', index_col='id')\n",
    "labels_df = pd.read_csv('data/training_set_labels.csv', index_col='id')\n",
    "np.testing.assert_array_equal(features_df.index.values, labels_df.index.values)"
   ]
  },
  {
   "cell_type": "code",
   "execution_count": 3,
   "id": "ee4abee1",
   "metadata": {},
   "outputs": [],
   "source": [
    "numeric_cols = features_df.columns[features_df.dtypes != \"object\"].values\n",
    "categorical_cols = features_df.columns[features_df.dtypes == \"object\"].values"
   ]
  },
  {
   "cell_type": "code",
   "execution_count": 4,
   "id": "389c9376",
   "metadata": {},
   "outputs": [],
   "source": [
    "# numeric_cols = [\n",
    "#     'date_recorded',\n",
    "#     'amount_tsh', \n",
    "#     'gps_height', \n",
    "#     'longitude', \n",
    "#     'latitude', \n",
    "#     'num_private',\n",
    "#     'region_code', \n",
    "#     'district_code', \n",
    "#     'population', \n",
    "#     'construction_year'\n",
    "# ]\n",
    "\n",
    "# categorical_cols = [\n",
    "#     'funder',\n",
    "#     'installer',\n",
    "#     'wpt_name',\n",
    "#     'basin',\n",
    "#     'subvillage',\n",
    "#     'region',\n",
    "#     'lga',\n",
    "#     'ward',\n",
    "#     'public_meeting',\n",
    "#     'recorded_by',\n",
    "#     'scheme_management',\n",
    "#     'scheme_name', \n",
    "#     'permit', \n",
    "#     'extraction_type', \n",
    "#     'extraction_type_group',\n",
    "#     'extraction_type_class', \n",
    "#     'management', \n",
    "#     'management_group',\n",
    "#     'payment', \n",
    "#     'payment_type', \n",
    "#     'water_quality', \n",
    "#     'quality_group',\n",
    "#     'quantity', \n",
    "#     'quantity_group', \n",
    "#     'source', \n",
    "#     'source_type',\n",
    "#     'source_class', \n",
    "#     'waterpoint_type', \n",
    "#     'waterpoint_type_group'\n",
    "# ]"
   ]
  },
  {
   "cell_type": "code",
   "execution_count": 5,
   "id": "291f5b38",
   "metadata": {},
   "outputs": [
    {
     "data": {
      "text/plain": [
       "array(['amount_tsh', 'gps_height', 'longitude', 'latitude', 'num_private',\n",
       "       'region_code', 'district_code', 'population', 'construction_year'],\n",
       "      dtype=object)"
      ]
     },
     "execution_count": 5,
     "metadata": {},
     "output_type": "execute_result"
    }
   ],
   "source": [
    "numeric_cols"
   ]
  },
  {
   "cell_type": "code",
   "execution_count": 6,
   "id": "f43b2171",
   "metadata": {},
   "outputs": [
    {
     "data": {
      "text/plain": [
       "array(['date_recorded', 'funder', 'installer', 'wpt_name', 'basin',\n",
       "       'subvillage', 'region', 'lga', 'ward', 'public_meeting',\n",
       "       'recorded_by', 'scheme_management', 'scheme_name', 'permit',\n",
       "       'extraction_type', 'extraction_type_group',\n",
       "       'extraction_type_class', 'management', 'management_group',\n",
       "       'payment', 'payment_type', 'water_quality', 'quality_group',\n",
       "       'quantity', 'quantity_group', 'source', 'source_type',\n",
       "       'source_class', 'waterpoint_type', 'waterpoint_type_group'],\n",
       "      dtype=object)"
      ]
     },
     "execution_count": 6,
     "metadata": {},
     "output_type": "execute_result"
    }
   ],
   "source": [
    "categorical_cols"
   ]
  },
  {
   "cell_type": "code",
   "execution_count": 7,
   "id": "4aa77c4f",
   "metadata": {},
   "outputs": [],
   "source": [
    "from sklearn.preprocessing import StandardScaler\n",
    "from sklearn.impute import SimpleImputer\n",
    "from feature_engine.imputation import RandomSampleImputer\n",
    "from sklearn.impute import MissingIndicator\n",
    "from sklearn.preprocessing import OrdinalEncoder\n",
    "from sklearn.impute import KNNImputer\n",
    "#from sklearn.pipeline import Pipeline\n",
    "from sklearn.compose import ColumnTransformer\n",
    "from catboost import CatBoostClassifier\n",
    "from sklearn.ensemble import RandomForestClassifier\n",
    "from sklearn.model_selection import cross_val_score\n",
    "from sklearn.metrics import roc_curve, roc_auc_score\n",
    "\n",
    "from imblearn.over_sampling import ADASYN\n",
    "from imblearn.pipeline import Pipeline \n",
    "\n",
    "RANDOM_SEED = 6    # Set a random seed for reproducibility!"
   ]
  },
  {
   "cell_type": "code",
   "execution_count": 8,
   "id": "e581aabd",
   "metadata": {},
   "outputs": [],
   "source": [
    "missing_category_imputer = SimpleImputer(missing_values=np.nan, strategy='constant', fill_value=\"Missing\")\n",
    "random_sample_imputer = RandomSampleImputer(random_state = 42)\n",
    "scheme_management_imputer = SimpleImputer(missing_values=np.nan, strategy='constant', fill_value=\"Company\")\n",
    "missing_indicator_imputer = MissingIndicator(error_on_new=True, features='missing-only')\n",
    "\n",
    "imputer_categorical = ColumnTransformer(transformers=[\n",
    "    ('missing_category', missing_category_imputer, [\"funder\", \"installer\", \"scheme_name\"]),\n",
    "    ('random_sample', random_sample_imputer, [\"public_meeting\", \"subvillage\"]),\n",
    "    ('scheme_management_imputer', scheme_management_imputer, [\"scheme_management\"]),\n",
    "    ('missing_indicator_imputer', missing_indicator_imputer, [\"permit\"]),\n",
    "], remainder=\"passthrough\")\n",
    "\n",
    "# Preprocessing for numerical data\n",
    "numerical_transformer = Pipeline(steps=[\n",
    "    ('standard_scaler', StandardScaler()),\n",
    "])\n",
    "\n",
    "# Preprocessing for categorical data\n",
    "categorical_transformer = Pipeline(steps=[\n",
    "    #('simple_imputer', SimpleImputer(strategy='most_frequent')),\n",
    "    ('cat_imputer', imputer_categorical),\n",
    "    ('ordinal', OrdinalEncoder(handle_unknown='use_encoded_value', unknown_value=-1)),\n",
    "])\n",
    "\n",
    "preprocessor = ColumnTransformer(transformers=[\n",
    "    ('num', numerical_transformer, numeric_cols),\n",
    "    ('cat', categorical_transformer, categorical_cols)\n",
    "])\n",
    "\n",
    "over_sampler = ADASYN(sampling_strategy=\"minority\", random_state=42)\n",
    "\n",
    "# 0.7812626262626263 score\n",
    "# model = CatBoostClassifier(n_estimators=1000, learning_rate=0.05, rsm=1, random_strength=1, silent=False, loss_function='MultiClass',  random_state=42)\n",
    "\n",
    "# n_estimators = 100 - score 0.8071717171717172\n",
    "# n_estimators = 500 - score 0.8091077441077441\n",
    "# n_estimators = 1000 - score 0.809090909090909\n",
    "model = RandomForestClassifier(random_state=42, n_estimators = 500)\n",
    "\n",
    "pipeline = Pipeline(steps=[\n",
    "    ('preprocessor', preprocessor),\n",
    "    ('sampler', over_sampler),\n",
    "    ('model', model)\n",
    "])"
   ]
  },
  {
   "cell_type": "code",
   "execution_count": 9,
   "id": "5a128bdc",
   "metadata": {},
   "outputs": [
    {
     "name": "stdout",
     "output_type": "stream",
     "text": [
      "[0.81456229 0.80589226 0.81203704 0.80765993 0.80538721]\n",
      "Wall time: 7min 37s\n"
     ]
    }
   ],
   "source": [
    "%%time\n",
    "\n",
    "scores = cross_val_score(pipeline, features_df, labels_df[\"status_group\"], cv=5, scoring='accuracy')\n",
    "print(scores)"
   ]
  },
  {
   "cell_type": "code",
   "execution_count": 10,
   "id": "72a663fb",
   "metadata": {},
   "outputs": [
    {
     "data": {
      "text/plain": [
       "0.8091077441077441"
      ]
     },
     "execution_count": 10,
     "metadata": {},
     "output_type": "execute_result"
    }
   ],
   "source": [
    "scores.mean()"
   ]
  },
  {
   "cell_type": "code",
   "execution_count": 19,
   "id": "c4aa65b4",
   "metadata": {},
   "outputs": [],
   "source": [
    "test_features_df = pd.read_csv(\"data/test_set_features.csv\", index_col=\"id\")"
   ]
  },
  {
   "cell_type": "code",
   "execution_count": 20,
   "id": "bb88c0c4",
   "metadata": {},
   "outputs": [
    {
     "name": "stdout",
     "output_type": "stream",
     "text": [
      "Wall time: 1min 59s\n"
     ]
    }
   ],
   "source": [
    "%%time\n",
    "\n",
    "# Train model\n",
    "pipeline.fit(features_df, labels_df[\"status_group\"])\n",
    "\n",
    "test_preds = pipeline.predict(test_features_df)"
   ]
  },
  {
   "cell_type": "code",
   "execution_count": 21,
   "id": "3d5924ed",
   "metadata": {},
   "outputs": [
    {
     "data": {
      "text/plain": [
       "array(['non functional', 'functional', 'functional', ..., 'functional',\n",
       "       'functional', 'non functional'], dtype=object)"
      ]
     },
     "execution_count": 21,
     "metadata": {},
     "output_type": "execute_result"
    }
   ],
   "source": [
    "test_preds"
   ]
  },
  {
   "cell_type": "code",
   "execution_count": 22,
   "id": "7fc121c0",
   "metadata": {},
   "outputs": [],
   "source": [
    "submission_df = pd.read_csv(\"data/submission_format.csv\", index_col=\"id\")"
   ]
  },
  {
   "cell_type": "code",
   "execution_count": 23,
   "id": "f81dc04e",
   "metadata": {},
   "outputs": [],
   "source": [
    "np.testing.assert_array_equal(test_features_df.index.values, submission_df.index.values)"
   ]
  },
  {
   "cell_type": "code",
   "execution_count": 24,
   "id": "099660f2",
   "metadata": {},
   "outputs": [],
   "source": [
    "submission_df[\"status_group\"] = test_preds"
   ]
  },
  {
   "cell_type": "code",
   "execution_count": 25,
   "id": "4a7a8956",
   "metadata": {},
   "outputs": [
    {
     "data": {
      "text/html": [
       "<div>\n",
       "<style scoped>\n",
       "    .dataframe tbody tr th:only-of-type {\n",
       "        vertical-align: middle;\n",
       "    }\n",
       "\n",
       "    .dataframe tbody tr th {\n",
       "        vertical-align: top;\n",
       "    }\n",
       "\n",
       "    .dataframe thead th {\n",
       "        text-align: right;\n",
       "    }\n",
       "</style>\n",
       "<table border=\"1\" class=\"dataframe\">\n",
       "  <thead>\n",
       "    <tr style=\"text-align: right;\">\n",
       "      <th></th>\n",
       "      <th>status_group</th>\n",
       "    </tr>\n",
       "    <tr>\n",
       "      <th>id</th>\n",
       "      <th></th>\n",
       "    </tr>\n",
       "  </thead>\n",
       "  <tbody>\n",
       "    <tr>\n",
       "      <th>50785</th>\n",
       "      <td>non functional</td>\n",
       "    </tr>\n",
       "    <tr>\n",
       "      <th>51630</th>\n",
       "      <td>functional</td>\n",
       "    </tr>\n",
       "    <tr>\n",
       "      <th>17168</th>\n",
       "      <td>functional</td>\n",
       "    </tr>\n",
       "    <tr>\n",
       "      <th>45559</th>\n",
       "      <td>non functional</td>\n",
       "    </tr>\n",
       "    <tr>\n",
       "      <th>49871</th>\n",
       "      <td>functional</td>\n",
       "    </tr>\n",
       "  </tbody>\n",
       "</table>\n",
       "</div>"
      ],
      "text/plain": [
       "         status_group\n",
       "id                   \n",
       "50785  non functional\n",
       "51630      functional\n",
       "17168      functional\n",
       "45559  non functional\n",
       "49871      functional"
      ]
     },
     "execution_count": 25,
     "metadata": {},
     "output_type": "execute_result"
    }
   ],
   "source": [
    "submission_df.head()"
   ]
  },
  {
   "cell_type": "code",
   "execution_count": 26,
   "id": "129cd97d",
   "metadata": {},
   "outputs": [],
   "source": [
    "submission_df.to_csv('submissions/V5.csv', index=True)"
   ]
  },
  {
   "cell_type": "code",
   "execution_count": null,
   "id": "7d44bf9e",
   "metadata": {},
   "outputs": [],
   "source": []
  }
 ],
 "metadata": {
  "kernelspec": {
   "display_name": "Python 3",
   "language": "python",
   "name": "python3"
  },
  "language_info": {
   "codemirror_mode": {
    "name": "ipython",
    "version": 3
   },
   "file_extension": ".py",
   "mimetype": "text/x-python",
   "name": "python",
   "nbconvert_exporter": "python",
   "pygments_lexer": "ipython3",
   "version": "3.9.5"
  }
 },
 "nbformat": 4,
 "nbformat_minor": 5
}
